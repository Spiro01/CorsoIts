{
 "cells": [
  {
   "cell_type": "markdown",
   "id": "a3ed21d9",
   "metadata": {},
   "source": [
    "# Analisi dataset automobili usate\n",
    "\n",
    "Il file allegato (analisi_auto.zip) contiene alcuni annunci di macchine usate in vendita sul portale Craigslist (https://www.craigslist.org/about/sites)\n",
    "\n",
    "Ad esempio: \n",
    "- https://newyork.craigslist.org/mnh/ctd/7554709641.html\n",
    "- https://newyork.craigslist.org/brk/cto/7552659766.html\n",
    "- https://philadelphia.craigslist.org/ctd/7560209372.html\n",
    "- https://lasvegas.craigslist.org/cto/7560204526.html\n",
    "\n",
    "\n",
    "### Si richiede di rispondere alle seguenti domande:\n",
    "\n",
    "1. Quanti record ci sono nel dataset?\n",
    "2. Quante auto ci sono per ciascuna marca? Creare due tabelle:\n",
    "    - nella prima ordinare i risultati in ordine alfabetico per marca\n",
    "    - nella seconda ordinare i risultati per numero di auto presenti in ordine decrescente\n",
    "3. Contare le auto raggruppate per marca e quindi per modello\n",
    "    - Basta mostrare i primi 30 modelli più venduti\n",
    "4. Quale è il prezzo medio di vendita delle auto ?\n",
    "5. Quale è il prezzo medio delle auto per ciascuna marca?\n",
    "6. Analisi delle Ferrari presenti\n",
    "    - Quante sono?\n",
    "    - Quali modelli sono disponibili?\n",
    "    - Quali colori sono disponibili?\n",
    "    - Disegnare un grafico che rappresenti la distribuzione dei colori delle Ferrari in vendita\n",
    "    - Ci sono delle Ferrari rosse in stato \"like new\" in vendita a meno di centomila dollari? Dove?\n",
    "\n",
    "### Note\n",
    "\n",
    "Il nome del notebook **DEVE** essere nel formato _corso_2022_cognome_nome.ipynb_\n",
    "\n",
    "L'elaborato verrà valutato eseguendolo in una cartella dove sono presenti solo i due files csv allegati.\n",
    "\n",
    "Per l'esecuzione del notebook verrà utilizzata la VM già utilizzata durante il corso in ambiente python con virtualenv come quello utilizzato a lezione (ovvero saranno installati solo pandas, numpuy e matplotlib).\n",
    "\n",
    "Se si necessita di ulteriori librerie indicarlo chiaramente fornendo le istruzioni per l'installazione.\n",
    "\n",
    "Aggiungere qualsiasi informazione si ritenga utile per aiutarmi a comprendere le scelte effettuate durante l'analisi.\n",
    "\n",
    "\n",
    "\n",
    "**P.S.**\n",
    "\n",
    "Il dataset completo ha una dimensione di circa 1.4 GB.\n",
    "Se **E SOLO SE** non riuscite ad analizzarlo potete utilizzare il file ridotto (analisi_auto_ridotto.zip), motivando tale scelta.\n",
    "\n",
    "**P.S.**\n",
    "Chi finisce in anticipo è invitato ad integrare l'analisi con qualsiasi altra informazione sia in grado di estrarre dal dataset proposto."
   ]
  },
  {
   "cell_type": "code",
   "execution_count": null,
   "id": "b18e2f8c",
   "metadata": {},
   "outputs": [],
   "source": []
  }
 ],
 "metadata": {
  "kernelspec": {
   "display_name": "Python 3.7.9 64-bit (microsoft store)",
   "language": "python",
   "name": "python3"
  },
  "language_info": {
   "codemirror_mode": {
    "name": "ipython",
    "version": 3
   },
   "file_extension": ".py",
   "mimetype": "text/x-python",
   "name": "python",
   "nbconvert_exporter": "python",
   "pygments_lexer": "ipython3",
   "version": "3.7.9"
  },
  "vscode": {
   "interpreter": {
    "hash": "822993cc2de8065dd07929654093e8c6598914b15835bcfeccbcac84530d789c"
   }
  }
 },
 "nbformat": 4,
 "nbformat_minor": 5
}
